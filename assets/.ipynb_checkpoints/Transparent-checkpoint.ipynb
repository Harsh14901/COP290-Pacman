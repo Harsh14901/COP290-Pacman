{
 "cells": [
  {
   "cell_type": "code",
   "execution_count": 1,
   "metadata": {},
   "outputs": [],
   "source": [
    "from PIL import Image"
   ]
  },
  {
   "cell_type": "code",
   "execution_count": 31,
   "metadata": {},
   "outputs": [],
   "source": [
    "fn_name = 'buttons/settings/minecraft_out.png'\n",
    "fn_out_name = 'buttons/settings/minecraft_out2.png'"
   ]
  },
  {
   "cell_type": "code",
   "execution_count": 32,
   "metadata": {},
   "outputs": [],
   "source": [
    "img = Image.open(fn_name)\n",
    "img = img.convert(\"RGBA\")"
   ]
  },
  {
   "cell_type": "code",
   "execution_count": 33,
   "metadata": {},
   "outputs": [],
   "source": [
    "datas = img.getdata()"
   ]
  },
  {
   "cell_type": "code",
   "execution_count": 34,
   "metadata": {},
   "outputs": [],
   "source": [
    "w,h = img.width,img.height"
   ]
  },
  {
   "cell_type": "code",
   "execution_count": 16,
   "metadata": {},
   "outputs": [],
   "source": [
    "newData = []\n",
    "tot = 0\n",
    "i = 0\n",
    "j = 0\n",
    "\n",
    "for item in datas:\n",
    "    if(j==w):\n",
    "        j = 0\n",
    "        i+=1\n",
    "    if item[0] == 0 and item[1] == 0 and item[2] == 0:\n",
    "        tot+=1\n",
    "        newData.append((255, 255, 255, 0))\n",
    "    else:\n",
    "        newData.append(item)\n",
    "    j+=1\n",
    "img.putdata(newData)\n",
    "img.save(fn_out_name, \"PNG\")"
   ]
  },
  {
   "cell_type": "code",
   "execution_count": 35,
   "metadata": {},
   "outputs": [],
   "source": [
    "new_data = []\n",
    "for item in datas:\n",
    "    new_data.append(item)\n",
    "\n",
    "def idx_form(i,j,k):\n",
    "    if k==0:\n",
    "        return i*h+j\n",
    "    elif k==1:\n",
    "        return (h-i-1)*h+j\n",
    "    elif k==2:\n",
    "        return i*h + (w-j-1)\n",
    "    return (h-i-1)*h + (w-j-1)\n",
    "for k in range(4):\n",
    "    for i in range(h):\n",
    "        for j in range(w):\n",
    "            idx = idx_form(i,j,k)\n",
    "            item = new_data[idx]\n",
    "            if item[0]==0 and item[1]==0 and item[2]==0:\n",
    "                new_data[idx] = (255,255,255,0)\n",
    "            else:\n",
    "                break"
   ]
  },
  {
   "cell_type": "code",
   "execution_count": 36,
   "metadata": {},
   "outputs": [],
   "source": [
    "img.putdata(new_data)\n",
    "img.save(fn_out_name, \"PNG\")"
   ]
  },
  {
   "cell_type": "code",
   "execution_count": null,
   "metadata": {},
   "outputs": [],
   "source": []
  }
 ],
 "metadata": {
  "kernelspec": {
   "display_name": "Python 3",
   "language": "python",
   "name": "python3"
  },
  "language_info": {
   "codemirror_mode": {
    "name": "ipython",
    "version": 3
   },
   "file_extension": ".py",
   "mimetype": "text/x-python",
   "name": "python",
   "nbconvert_exporter": "python",
   "pygments_lexer": "ipython3",
   "version": "3.8.5"
  }
 },
 "nbformat": 4,
 "nbformat_minor": 4
}
