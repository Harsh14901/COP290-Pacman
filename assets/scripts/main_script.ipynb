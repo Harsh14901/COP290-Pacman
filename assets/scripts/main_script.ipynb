{
 "cells": [
  {
   "cell_type": "code",
   "execution_count": 10,
   "metadata": {},
   "outputs": [
    {
     "name": "stdout",
     "output_type": "stream",
     "text": [
      "Welcome to the Difference of Gaussian Image creation utility.\n"
     ]
    },
    {
     "name": "stdin",
     "output_type": "stream",
     "text": [
      "If you would like to compare two images type \"Compare\", if you want to calculate a new set Difference of Gaussian image type \"New\": \n",
      " New\n",
      "Enter image file name and path:  assets/pngs/img2.png\n"
     ]
    }
   ],
   "source": [
    "import cv2\n",
    "import numpy as np\n",
    "raw_input = input\n",
    "def DoG():\n",
    "    fn = raw_input(\"Enter image file name and path: \")\n",
    "    fn_no_ext = fn.split('.')[0]\n",
    "    outputFile = fn_no_ext+'DoG.jpg'\n",
    "    #read the input file\n",
    "    img = cv2.imread(str(fn))\n",
    "\n",
    "    #run a 5x5 gaussian blur then a 3x3 gaussian blr\n",
    "    blur5 = cv2.GaussianBlur(img,(1,1),0)\n",
    "    blur3 = cv2.GaussianBlur(img,(3,3),0)\n",
    "\n",
    "    #write the results of the previous step to new files\n",
    "    cv2.imwrite(fn_no_ext+'3x3.jpg', blur3)\n",
    "    cv2.imwrite(fn_no_ext+'5x5.jpg', blur5)\n",
    "\n",
    "    DoGim = blur5 - blur3\n",
    "    cv2.imwrite(outputFile, DoGim)\n",
    " \n",
    "def compareImages():\n",
    "    input1 = raw_input('enter the first image to be compared: ')\n",
    "    input2 = raw_input('enter the second image to be compared: ')\n",
    "    outFile = raw_input('enter the filename of the desired output: ')\n",
    " \n",
    "    in1 = cv2.imread(input1)\n",
    "    in2 = cv2.imread(input2)\n",
    " \n",
    "    output1 = in2 * -1*in1\n",
    " \n",
    "    cv2.imwrite(outFile+'.jpg', output1)\n",
    " \n",
    "print(\"Welcome to the Difference of Gaussian Image creation utility.\")\n",
    "actionSelection = raw_input(\"If you would like to compare two images type \\\"Compare\\\", if you want to calculate a new set Difference of Gaussian image type \\\"New\\\": \\n\").lower()\n",
    "\n",
    "if actionSelection == \"new\":\n",
    "    DoG()\n",
    "elif actionSelection == \"compare\":\n",
    "    compareImages()\n",
    "else:\n",
    "    print (\"Not a valid selection.\")"
   ]
  },
  {
   "cell_type": "code",
   "execution_count": 16,
   "metadata": {},
   "outputs": [
    {
     "data": {
      "text/plain": [
       "True"
      ]
     },
     "execution_count": 16,
     "metadata": {},
     "output_type": "execute_result"
    }
   ],
   "source": [
    "fn = 'assets/pngs/img2.png'\n",
    "fn_no_ext = fn.split('.')[0]\n",
    "outputFile = fn_no_ext+'DoG.jpg'\n",
    "#read the input file\n",
    "img = cv2.imread(str(fn))\n",
    "\n",
    "#run a 5x5 gaussian blur then a 3x3 gaussian blr\n",
    "blur5 = cv2.GaussianBlur(img,(5,5),0)\n",
    "# blur3 = cv2.GaussianBlur(img,(1,1),0)\n",
    "\n",
    "#write the results of the previous step to new files\n",
    "# cv2.imwrite(fn_no_ext+'3x3.jpg', blur3)\n",
    "# cv2.imwrite(fn_no_ext+'5x5.jpg', blur5)\n",
    "\n",
    "DoGim = blur5 - img\n",
    "cv2.imwrite(outputFile, DoGim)"
   ]
  },
  {
   "cell_type": "code",
   "execution_count": 6,
   "metadata": {},
   "outputs": [],
   "source": [
    "import cv2"
   ]
  },
  {
   "cell_type": "code",
   "execution_count": 5,
   "metadata": {},
   "outputs": [
    {
     "name": "stdout",
     "output_type": "stream",
     "text": [
      "Collecting opencv-python\n",
      "  Downloading opencv_python-4.5.2.52-cp38-cp38-manylinux2014_x86_64.whl (51.0 MB)\n",
      "\u001b[K     |████████████████████████████████| 51.0 MB 7.7 kB/s eta 0:00:01\n",
      "\u001b[?25hRequirement already satisfied: numpy>=1.17.3 in /home/pranjal2041/anaconda3/lib/python3.8/site-packages (from opencv-python) (1.19.2)\n",
      "Installing collected packages: opencv-python\n",
      "Successfully installed opencv-python-4.5.2.52\n"
     ]
    }
   ],
   "source": [
    "!pip install opencv-python"
   ]
  },
  {
   "cell_type": "code",
   "execution_count": 10,
   "metadata": {},
   "outputs": [
    {
     "name": "stdout",
     "output_type": "stream",
     "text": [
      "imagesize=49-43\n"
     ]
    },
    {
     "data": {
      "text/plain": [
       "True"
      ]
     },
     "execution_count": 10,
     "metadata": {},
     "output_type": "execute_result"
    }
   ],
   "source": [
    "\n",
    " #Path of the picture\n",
    "imgname = \"assets/pngs/img2.png\"\n",
    " \n",
    " #Read the picture\n",
    "image = cv2.imread(imgname, cv2.IMREAD_GRAYSCALE)\n",
    " \n",
    " #Image height and width\n",
    "h,w = image.shape[:2]\n",
    "print('imagesize={}-{}'.format(w,h))\n",
    " \n",
    " #Show original image\n",
    "# cv2.imshow(\"Image\",image)\n",
    " \n",
    " #operator\n",
    "sigma=1.5\n",
    "K = 1.05\n",
    "g1 = cv2.GaussianBlur(image, (1,1), sigmaX=sigma,sigmaY=sigma)\n",
    "g2 = cv2.GaussianBlur(image, (3,3), sigmaX=sigma*K,sigmaY=sigma*K)\n",
    " \n",
    "DOG = g2 - g1\n",
    "# DOG[DOG>0]=255\n",
    "# DOG[DOG<=0]=0\n",
    "# DOG = DOG.astype(np.uint8)\n",
    "# cv2.imshow(\"DOG\",DOG)\n",
    "cv2.imwrite(\"assets/pngs/img2_glowed.png\",255-DOG)\n",
    "# cv2.waitKey(0)"
   ]
  },
  {
   "cell_type": "code",
   "execution_count": 2,
   "metadata": {},
   "outputs": [],
   "source": [
    "import cv2\n",
    "import numpy as np\n",
    "from scipy import signal"
   ]
  },
  {
   "cell_type": "code",
   "execution_count": null,
   "metadata": {},
   "outputs": [],
   "source": [
    "alpha = 0.3\n",
    "src1 = cv2.imread('assets/pngs/img2.png')\n",
    "src2 = cv2.imread('assets/pngs/img2_glowed.png')\n",
    "\n",
    "# [blend_images]\n",
    "beta = (1.0 - alpha)\n",
    "dst = cv2.addWeighted(src1, alpha, src2, beta, 0.0)\n",
    "# [blend_images]\n",
    "# [display]\n",
    "cv2.imshow('dst', dst)\n",
    "cv2.waitKey(0)\n",
    "# [display]\n",
    "cv2.destroyAllWindows()"
   ]
  },
  {
   "cell_type": "code",
   "execution_count": 1,
   "metadata": {},
   "outputs": [
    {
     "name": "stdout",
     "output_type": "stream",
     "text": [
      "Collecting pgimp\n",
      "  Downloading pgimp-1.0.0a22.tar.gz (140 kB)\n",
      "\u001b[K     |████████████████████████████████| 140 kB 811 kB/s eta 0:00:01\n",
      "\u001b[31m    ERROR: Command errored out with exit status 1:\n",
      "     command: /home/pranjal2041/anaconda3/bin/python -c 'import sys, setuptools, tokenize; sys.argv[0] = '\"'\"'/tmp/pip-install-jkp1vcs7/pgimp/setup.py'\"'\"'; __file__='\"'\"'/tmp/pip-install-jkp1vcs7/pgimp/setup.py'\"'\"';f=getattr(tokenize, '\"'\"'open'\"'\"', open)(__file__);code=f.read().replace('\"'\"'\\r\\n'\"'\"', '\"'\"'\\n'\"'\"');f.close();exec(compile(code, __file__, '\"'\"'exec'\"'\"'))' egg_info --egg-base /tmp/pip-pip-egg-info-jqug9_p2\n",
      "         cwd: /tmp/pip-install-jkp1vcs7/pgimp/\n",
      "    Complete output (7 lines):\n",
      "    Traceback (most recent call last):\n",
      "      File \"<string>\", line 1, in <module>\n",
      "      File \"/tmp/pip-install-jkp1vcs7/pgimp/setup.py\", line 42, in <module>\n",
      "        check_python2_installation()\n",
      "      File \"/tmp/pip-install-jkp1vcs7/pgimp/setup.py\", line 37, in check_python2_installation\n",
      "        raise GimpInstallationException(\n",
      "    __main__.GimpInstallationException: At least one of the following packages is missing in the python2 installation: numpy, typing\n",
      "    ----------------------------------------\u001b[0m\n",
      "\u001b[31mERROR: Command errored out with exit status 1: python setup.py egg_info Check the logs for full command output.\u001b[0m\n",
      "\u001b[?25h"
     ]
    }
   ],
   "source": [
    "!pip install pgimp"
   ]
  },
  {
   "cell_type": "code",
   "execution_count": 162,
   "metadata": {},
   "outputs": [],
   "source": [
    "import cv2\n",
    "import numpy as np"
   ]
  },
  {
   "cell_type": "code",
   "execution_count": 163,
   "metadata": {},
   "outputs": [],
   "source": [
    "fn = 'assets/pngs/pac-classic_c-toy.png'\n",
    "fn_out = fn[:-4]+'_glow'+fn[-4:]\n",
    "img = cv2.imread(fn)"
   ]
  },
  {
   "cell_type": "code",
   "execution_count": 164,
   "metadata": {},
   "outputs": [],
   "source": [
    "gray = cv2.cvtColor(img,cv2.COLOR_BGR2GRAY)"
   ]
  },
  {
   "cell_type": "code",
   "execution_count": 165,
   "metadata": {},
   "outputs": [],
   "source": [
    "ks = min(gray.shape)//4\n",
    "ks = ks+1 if ks%2==0 else ks"
   ]
  },
  {
   "cell_type": "code",
   "execution_count": 166,
   "metadata": {},
   "outputs": [],
   "source": [
    "gb = cv2.GaussianBlur(gray,(ks,ks),0)"
   ]
  },
  {
   "cell_type": "code",
   "execution_count": 167,
   "metadata": {},
   "outputs": [],
   "source": [
    "gdb = np.zeros(gb.shape)\n",
    "for i in range(gb.shape[0]):\n",
    "    for j in range(gb.shape[1]):\n",
    "        if(gray[i][j]<0):\n",
    "            print('oh')\n",
    "        gdb[i][j] = gb[i][j] - gray[i][j] if gray[i][j]<gb[i][j] else 0"
   ]
  },
  {
   "cell_type": "code",
   "execution_count": 168,
   "metadata": {},
   "outputs": [
    {
     "data": {
      "text/plain": [
       "True"
      ]
     },
     "execution_count": 168,
     "metadata": {},
     "output_type": "execute_result"
    }
   ],
   "source": [
    "cv2.imwrite(fn_out,gdb)"
   ]
  },
  {
   "cell_type": "code",
   "execution_count": 146,
   "metadata": {},
   "outputs": [],
   "source": [
    "from PIL import Image"
   ]
  },
  {
   "cell_type": "code",
   "execution_count": 147,
   "metadata": {},
   "outputs": [],
   "source": [
    "img = Image.open(fn_out)\n",
    "img = img.convert(\"RGBA\")"
   ]
  },
  {
   "cell_type": "code",
   "execution_count": 148,
   "metadata": {},
   "outputs": [],
   "source": [
    "datas = img.getdata()"
   ]
  },
  {
   "cell_type": "code",
   "execution_count": 149,
   "metadata": {
    "scrolled": true
   },
   "outputs": [],
   "source": [
    "newData = []\n",
    "tot = 0\n",
    "for item in datas:\n",
    "    if item[0] <= 50 and item[1] == 50 and item[2] == 50:\n",
    "        tot+=1\n",
    "        newData.append((255, 255, 255, 0))\n",
    "    else:\n",
    "        newData.append(item)\n",
    "\n",
    "img.putdata(newData)\n",
    "img.save(fn_out, \"PNG\")"
   ]
  },
  {
   "cell_type": "code",
   "execution_count": 151,
   "metadata": {},
   "outputs": [
    {
     "data": {
      "text/plain": [
       "(1256, (0, 0, 0, 255))"
      ]
     },
     "execution_count": 151,
     "metadata": {},
     "output_type": "execute_result"
    }
   ],
   "source": [
    "tot,datas[0]"
   ]
  },
  {
   "cell_type": "code",
   "execution_count": null,
   "metadata": {},
   "outputs": [],
   "source": []
  },
  {
   "cell_type": "code",
   "execution_count": 16,
   "metadata": {},
   "outputs": [],
   "source": [
    "cv2.imshow('yoyo',gdb)\n",
    "while cv2.waitKey(0) != 113:\n",
    "#     print(cv2.waitKey(0))\n",
    "    continue\n",
    "# cv2.destroyAllWindows()"
   ]
  },
  {
   "cell_type": "code",
   "execution_count": null,
   "metadata": {},
   "outputs": [],
   "source": []
  },
  {
   "cell_type": "code",
   "execution_count": 17,
   "metadata": {},
   "outputs": [],
   "source": [
    "cv2.destroyAllWindows()"
   ]
  },
  {
   "cell_type": "code",
   "execution_count": 15,
   "metadata": {},
   "outputs": [],
   "source": [
    "gdb = gdb.astype('uint8')"
   ]
  },
  {
   "cell_type": "code",
   "execution_count": 35,
   "metadata": {},
   "outputs": [],
   "source": []
  },
  {
   "cell_type": "code",
   "execution_count": 8,
   "metadata": {},
   "outputs": [
    {
     "data": {
      "text/plain": [
       "(173903, 173910)"
      ]
     },
     "execution_count": 8,
     "metadata": {},
     "output_type": "execute_result"
    }
   ],
   "source": [
    "np.sum(gb),np.sum(gray)"
   ]
  },
  {
   "cell_type": "code",
   "execution_count": 35,
   "metadata": {},
   "outputs": [],
   "source": []
  },
  {
   "cell_type": "code",
   "execution_count": 36,
   "metadata": {
    "scrolled": true
   },
   "outputs": [],
   "source": []
  },
  {
   "cell_type": "code",
   "execution_count": 37,
   "metadata": {},
   "outputs": [
    {
     "data": {
      "text/plain": [
       "(5023569.0, 134969411)"
      ]
     },
     "execution_count": 37,
     "metadata": {},
     "output_type": "execute_result"
    }
   ],
   "source": [
    "np.sum(gdb),np.sum(gb)"
   ]
  },
  {
   "cell_type": "code",
   "execution_count": 28,
   "metadata": {},
   "outputs": [
    {
     "data": {
      "text/plain": [
       "0"
      ]
     },
     "execution_count": 28,
     "metadata": {},
     "output_type": "execute_result"
    }
   ],
   "source": [
    "gb[42][48]"
   ]
  },
  {
   "cell_type": "code",
   "execution_count": 51,
   "metadata": {},
   "outputs": [
    {
     "data": {
      "text/plain": [
       "49"
      ]
     },
     "execution_count": 51,
     "metadata": {},
     "output_type": "execute_result"
    }
   ],
   "source": [
    "gb.shape[1]"
   ]
  },
  {
   "cell_type": "code",
   "execution_count": 54,
   "metadata": {},
   "outputs": [
    {
     "name": "stderr",
     "output_type": "stream",
     "text": [
      "<ipython-input-54-40a189812248>:1: RuntimeWarning: overflow encountered in ubyte_scalars\n",
      "  gb[8][8]-gray[8][8]\n"
     ]
    },
    {
     "data": {
      "text/plain": [
       "99"
      ]
     },
     "execution_count": 54,
     "metadata": {},
     "output_type": "execute_result"
    }
   ],
   "source": [
    "gb[8][8]-gray[8][8]"
   ]
  },
  {
   "cell_type": "code",
   "execution_count": 13,
   "metadata": {},
   "outputs": [
    {
     "data": {
      "text/plain": [
       "112"
      ]
     },
     "execution_count": 13,
     "metadata": {},
     "output_type": "execute_result"
    }
   ],
   "source": [
    "np.sum()"
   ]
  },
  {
   "cell_type": "code",
   "execution_count": 11,
   "metadata": {},
   "outputs": [
    {
     "data": {
      "text/plain": [
       "array([[0, 0, 0, ..., 0, 0, 0],\n",
       "       [0, 0, 0, ..., 0, 0, 0],\n",
       "       [0, 0, 0, ..., 0, 0, 0],\n",
       "       ...,\n",
       "       [0, 0, 0, ..., 0, 0, 0],\n",
       "       [0, 0, 0, ..., 0, 0, 0],\n",
       "       [0, 0, 0, ..., 0, 0, 0]], dtype=uint8)"
      ]
     },
     "execution_count": 11,
     "metadata": {},
     "output_type": "execute_result"
    }
   ],
   "source": [
    "gb"
   ]
  },
  {
   "cell_type": "code",
   "execution_count": null,
   "metadata": {},
   "outputs": [],
   "source": [
    "alpha = 0.4\n",
    "for i in range(img.shape[0]):\n",
    "    for j in range(img.shape[1]):\n",
    "        img[i][j] =  - img[i][j]*alpha + (1-alpha)* np.array([gb[i][j][0],0,0])"
   ]
  }
 ],
 "metadata": {
  "kernelspec": {
   "display_name": "Python 3",
   "language": "python",
   "name": "python3"
  },
  "language_info": {
   "codemirror_mode": {
    "name": "ipython",
    "version": 3
   },
   "file_extension": ".py",
   "mimetype": "text/x-python",
   "name": "python",
   "nbconvert_exporter": "python",
   "pygments_lexer": "ipython3",
   "version": "3.8.5"
  }
 },
 "nbformat": 4,
 "nbformat_minor": 4
}
