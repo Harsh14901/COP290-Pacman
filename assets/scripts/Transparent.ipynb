{
 "cells": [
  {
   "cell_type": "code",
   "execution_count": 20,
   "metadata": {},
   "outputs": [],
   "source": [
    "from PIL import Image,ImageOps"
   ]
  },
  {
   "cell_type": "code",
   "execution_count": 27,
   "metadata": {},
   "outputs": [],
   "source": [
    "fn_name = '../themes/Transformers/enemy1.jpg'\n",
    "fn_out_name = '../themes/Transformers/enemy1_out.png'\n",
    "\n",
    "fn_name = '../themes/eyes_enemy.png'\n",
    "fn_out_name = '../themes/eyes_enemy.png'"
   ]
  },
  {
   "cell_type": "code",
   "execution_count": 28,
   "metadata": {},
   "outputs": [],
   "source": [
    "img = Image.open(fn_name)\n",
    "img = img.convert(\"RGBA\")"
   ]
  },
  {
   "cell_type": "code",
   "execution_count": 17,
   "metadata": {},
   "outputs": [],
   "source": [
    "datas = img.getdata()"
   ]
  },
  {
   "cell_type": "code",
   "execution_count": 11,
   "metadata": {},
   "outputs": [],
   "source": [
    "w,h = img.width,img.height"
   ]
  },
  {
   "cell_type": "code",
   "execution_count": 18,
   "metadata": {},
   "outputs": [],
   "source": [
    "newData = []\n",
    "tot = 0\n",
    "i = 0\n",
    "j = 0\n",
    "\n",
    "for item in datas:\n",
    "    if(j==w):\n",
    "        j = 0\n",
    "        i+=1\n",
    "    if item[0] == 0 and item[1] ==0 and item[2] ==0:\n",
    "        tot+=1\n",
    "        newData.append((255, 255, 255, 0))\n",
    "    else:\n",
    "        newData.append(item)\n",
    "    j+=1\n",
    "img.putdata(newData)\n",
    "img.save(fn_out_name, \"PNG\")"
   ]
  },
  {
   "cell_type": "code",
   "execution_count": 109,
   "metadata": {},
   "outputs": [],
   "source": [
    "fn_name = 'buttons/settings/minecraft.png'\n",
    "fn_out_name = fn_name#'buttons/settings/pacman_out.png'\n",
    "\n",
    "img = Image.open(fn_name)\n",
    "img = img.convert(\"RGBA\")\n",
    "datas = img.getdata()\n",
    "w,h = img.width,img.height\n",
    "\n",
    "new_data = []\n",
    "for item in datas:\n",
    "    new_data.append(item)\n",
    "\n",
    "def idx_form(i,j,k):\n",
    "    if k==0:\n",
    "        return i*w+j\n",
    "    elif k==1:\n",
    "        return i*w + (w-j-1)\n",
    "    elif k==2:\n",
    "        return (h-i-1)*w+j\n",
    "    return (h-i-1)*w + (w-j-1)\n",
    "for k in range(2):\n",
    "    for i in range(h):\n",
    "        for j in range(w):\n",
    "            idx = idx_form(i,j,k)\n",
    "            item = new_data[idx]\n",
    "            if item[0]<100 and item[1]<100 and item[2]<100:\n",
    "                new_data[idx] = (255,255,255,0)\n",
    "            else:\n",
    "                break\n",
    "img.putdata(new_data)\n",
    "img.save(fn_out_name, \"PNG\")"
   ]
  },
  {
   "cell_type": "code",
   "execution_count": 100,
   "metadata": {},
   "outputs": [],
   "source": []
  },
  {
   "cell_type": "code",
   "execution_count": null,
   "metadata": {},
   "outputs": [],
   "source": []
  }
 ],
 "metadata": {
  "kernelspec": {
   "display_name": "Python 3",
   "language": "python",
   "name": "python3"
  },
  "language_info": {
   "codemirror_mode": {
    "name": "ipython",
    "version": 3
   },
   "file_extension": ".py",
   "mimetype": "text/x-python",
   "name": "python",
   "nbconvert_exporter": "python",
   "pygments_lexer": "ipython3",
   "version": "3.8.5"
  }
 },
 "nbformat": 4,
 "nbformat_minor": 4
}
